{
 "cells": [
  {
   "cell_type": "markdown",
   "metadata": {},
   "source": [
    "\n",
    "# Table of contents\n",
    " - Import Dependencies\n",
    " - Load and Visualize data\n",
    " - Build Model\n",
    " - Train Model\n",
    " - Evaluate Model\n",
    " - Final Evaluations"
   ]
  },
  {
   "cell_type": "markdown",
   "metadata": {},
   "source": [
    "## Import Dependencies"
   ]
  },
  {
   "cell_type": "code",
   "execution_count": 4,
   "metadata": {},
   "outputs": [],
   "source": [
    "import numpy as np \n",
    "import pandas as pd \n",
    "import os\n",
    "import cv2\n",
    "import matplotlib.pyplot as plt\n",
    "from sklearn.model_selection import train_test_split\n",
    "from pathlib import Path\n",
    "import shutil\n",
    "from collections import Counter\n",
    "import keras \n",
    "import tensorflow as tf\n",
    "from keras.layers import *\n",
    "from keras.models import *\n",
    "from IPython.display import Image\n",
    "from keras import backend as K\n",
    "import csv"
   ]
  },
  {
   "cell_type": "markdown",
   "metadata": {},
   "source": [
    "## Load and Visualize data"
   ]
  },
  {
   "cell_type": "code",
   "execution_count": 2,
   "metadata": {},
   "outputs": [],
   "source": [
    "path = \"Dataset/Pictures/\"\n",
    "subjects_folder = os.listdir(path)\n",
    "#la lista dei file viene caricata in modo arbitratrio, quindi la ordino per conformarla\n",
    "subjects_folder.sort()\n",
    "size = len(subjects_folder)"
   ]
  },
  {
   "cell_type": "code",
   "execution_count": 3,
   "metadata": {},
   "outputs": [
    {
     "name": "stdout",
     "output_type": "stream",
     "text": [
      "Formato dei file: gender_glasses_eyeState_reflections_imageQuality_sensorType\n",
      "\n"
     ]
    }
   ],
   "source": [
    "print(\"Formato dei file: gender_glasses_eyeState_reflections_imageQuality_sensorType\\n\")"
   ]
  },
  {
   "cell_type": "raw",
   "metadata": {},
   "source": [
    "#Per trovare la dimensione minima di un'immagine\n",
    "w = []\n",
    "h = [] \n",
    "\n",
    "for folder in subjects_folder:\n",
    "    subject_folder_path = path + folder\n",
    "    subject_folder = os.listdir(subject_folder_path)\n",
    "    for img in subject_folder:\n",
    "        image_path = subject_folder_path + \"/\" + img\n",
    "        image = cv2.imread(image_path, cv2.IMREAD_GRAYSCALE)\n",
    "        w.append(image.shape[1])\n",
    "        h.append(image.shape[0])\n",
    "        \n",
    "min(w)\n",
    "min(h)"
   ]
  },
  {
   "cell_type": "code",
   "execution_count": 4,
   "metadata": {},
   "outputs": [
    {
     "name": "stdout",
     "output_type": "stream",
     "text": [
      "Dataset/Pictures/s0001\n",
      "Dataset/Pictures/s0002\n",
      "Dataset/Pictures/s0003\n",
      "Dataset/Pictures/s0004\n",
      "Dataset/Pictures/s0005\n",
      "Dataset/Pictures/s0006\n",
      "Dataset/Pictures/s0007\n",
      "Dataset/Pictures/s0008\n",
      "Dataset/Pictures/s0009\n",
      "Dataset/Pictures/s0010\n",
      "Dataset/Pictures/s0011\n",
      "Dataset/Pictures/s0012\n",
      "Dataset/Pictures/s0013\n",
      "Dataset/Pictures/s0014\n",
      "Dataset/Pictures/s0015\n",
      "Dataset/Pictures/s0016\n",
      "Dataset/Pictures/s0017\n",
      "Dataset/Pictures/s0018\n",
      "Dataset/Pictures/s0019\n",
      "Dataset/Pictures/s0020\n",
      "Dataset/Pictures/s0021\n",
      "Dataset/Pictures/s0022\n",
      "Dataset/Pictures/s0023\n",
      "Dataset/Pictures/s0024\n",
      "Dataset/Pictures/s0025\n",
      "Dataset/Pictures/s0026\n",
      "Dataset/Pictures/s0027\n",
      "Dataset/Pictures/s0028\n",
      "Dataset/Pictures/s0029\n",
      "Dataset/Pictures/s0030\n",
      "Dataset/Pictures/s0031\n",
      "Dataset/Pictures/s0032\n",
      "Dataset/Pictures/s0033\n",
      "Dataset/Pictures/s0034\n",
      "Dataset/Pictures/s0035\n",
      "Dataset/Pictures/s0036\n",
      "Dataset/Pictures/s0037\n"
     ]
    }
   ],
   "source": [
    "images = []\n",
    "glasses = []\n",
    "genders = []\n",
    "eye_state = [] \n",
    "reflections = []\n",
    "image_quality = []\n",
    "sensor_type = []\n",
    "files_name = []\n",
    "\n",
    "IMG_WIDTH= 52\n",
    "IMG_HEIGHT = 52\n",
    "\n",
    "for folder in subjects_folder:\n",
    "    subject_folder_path = path + folder\n",
    "    subject_folder = os.listdir(subject_folder_path)\n",
    "    print(subject_folder_path)\n",
    "    for img in subject_folder:\n",
    "        image_path = subject_folder_path + \"/\" + img\n",
    "        image = cv2.imread(image_path, cv2.IMREAD_GRAYSCALE)\n",
    "        image = cv2.resize(image, dsize=(IMG_HEIGHT,IMG_WIDTH))\n",
    "        image = image.reshape((image.shape[0],image.shape[1],1))\n",
    "        images.append(image)\n",
    "        split_name = img.split('.')\n",
    "        split_var = split_name[0].split('_')\n",
    "        genders.append(int(split_var[2]))\n",
    "        glasses.append(int(split_var[3]))\n",
    "        eye_state.append(int(split_var[4]))\n",
    "        reflections.append(int(split_var[5]))\n",
    "        image_quality.append(int(split_var[6]))\n",
    "        sensor_type.append(int(split_var[7]))\n",
    "        files_name.append(img)\n",
    "                               "
   ]
  },
  {
   "cell_type": "code",
   "execution_count": 5,
   "metadata": {},
   "outputs": [
    {
     "data": {
      "text/plain": [
       "(52, 52, 1)"
      ]
     },
     "execution_count": 5,
     "metadata": {},
     "output_type": "execute_result"
    }
   ],
   "source": [
    "#shape di un'immagine\n",
    "images[1].shape"
   ]
  },
  {
   "cell_type": "code",
   "execution_count": 6,
   "metadata": {},
   "outputs": [
    {
     "data": {
      "image/png": "[encoded data removed]",
      "text/plain": [
       "<Figure size 432x288 with 1 Axes>"
      ]
     },
     "metadata": {
      "needs_background": "light"
     },
     "output_type": "display_data"
    },
    {
     "name": "stdout",
     "output_type": "stream",
     "text": [
      "Uomini:  63173\n",
      "Donne:  21725\n"
     ]
    }
   ],
   "source": [
    "#Grafico della distribuzione sesso\n",
    "sesso = ['Uomo','Donna']\n",
    "x_genders = list(set(genders))\n",
    "y_genders = [genders.count(i) for i in x_genders]\n",
    "plt.bar(sesso,y_genders)\n",
    "plt.title('Distribuzione sesso')\n",
    "plt.show()\n",
    "print(\"Uomini: \",y_genders[0])\n",
    "print(\"Donne: \",y_genders[1])"
   ]
  },
  {
   "cell_type": "code",
   "execution_count": 7,
   "metadata": {},
   "outputs": [
    {
     "name": "stdout",
     "output_type": "stream",
     "text": [
      "Nome file: s0001_00947_0_1_0_2_0_01.png\n",
      "Genders: 0\n",
      "Glasses: 1\n",
      "Eye_state: 0\n",
      "Reflections: 2\n",
      "Image_quality: 0\n",
      "Sensor_type: 1\n"
     ]
    },
    {
     "data": {
      "image/png": "[encoded data removed]",
      "text/plain": [
       "<Figure size 432x288 with 1 Axes>"
      ]
     },
     "metadata": {
      "needs_background": "light"
     },
     "output_type": "display_data"
    }
   ],
   "source": [
    "#funzione per lo show di un'immagine. \n",
    "def display(img):\n",
    "    img = np.squeeze(img)  #squeeze remove single-dimensional entries from the shape of an array.\n",
    "    plt.imshow(img)\n",
    "    plt.set_cmap('gray')\n",
    "    plt.show()\n",
    "\n",
    "idx = 1\n",
    "sample = images[idx]\n",
    "print(\"Nome file:\",files_name[idx])\n",
    "print(\"Genders:\",genders[idx])\n",
    "print(\"Glasses:\",glasses[idx])\n",
    "print(\"Eye_state:\",eye_state[idx])\n",
    "print(\"Reflections:\",reflections[idx])\n",
    "print(\"Image_quality:\",image_quality[idx])\n",
    "print(\"Sensor_type:\",sensor_type[idx])\n",
    "display(images[idx])"
   ]
  },
  {
   "cell_type": "code",
   "execution_count": 23,
   "metadata": {},
   "outputs": [],
   "source": [
    "#Creazione di un'unica lista contenente le feature associate alle immagini\n",
    "features = []\n",
    "\n",
    "for i in range(len(images)):\n",
    "    \n",
    "    #featElement = np.array([int(genders[i]),int(glasses[i]),int(reflections[i]),int(image_quality[i]),int(sensor_type[i])])\n",
    "    featElement = np.array([int(genders[i]),int(reflections[i]),int(image_quality[i]),int(sensor_type[i])])\n",
    "    features.append(featElement)\n",
    "\n",
    "features = np.asarray(features)"
   ]
  },
  {
   "cell_type": "raw",
   "metadata": {},
   "source": [
    "#Creazione CSV con etichette\n",
    "import csv\n",
    "\n",
    "with open('dataset_with_label.csv', 'w') as csvfile:\n",
    "    filewriter = csv.writer(csvfile, delimiter=';', quotechar='|', quoting=csv.QUOTE_MINIMAL)\n",
    "    filewriter.writerow([ \"Image_Name\", \"Glasses\", \"Genders\", \"Reflections\",\"Image_quality\", \"Sensor_type\", \"Eye_state\"])\n",
    " \n",
    "    for i in range(len(images)):\n",
    "        arr = np.array(images[i])\n",
    "        flat_arr = arr.ravel()\n",
    "        filewriter.writerow([files_name[i], glasses[i], genders[i], reflections[i], image_quality[i], sensor_type[i], eye_state[i]])\n",
    "\n",
    "\n",
    "\n",
    "#Creazione CSV senza etichette\n",
    "with open('dataset_without_label.csv', 'w') as csvfile:\n",
    "    filewriter = csv.writer(csvfile, delimiter=';', quotechar='|', quoting=csv.QUOTE_MINIMAL)\n",
    "    filewriter.writerow([ \"Image_Name\", \"Glasses\", \"Genders\", \"Reflections\",\"Image_quality\", \"Sensor_type\"])\n",
    " \n",
    "    for i in range(len(images)):\n",
    "        arr = np.array(images[i])\n",
    "        flat_arr = arr.ravel()\n",
    "        filewriter.writerow([files_name[i], glasses[i], genders[i], reflections[i], image_quality[i], sensor_type[i]])"
   ]
  },
  {
   "cell_type": "code",
   "execution_count": 10,
   "metadata": {},
   "outputs": [],
   "source": [
    "#Normalizzazione delle immagini\n",
    "if 'target' not in locals():\n",
    "    target = eye_state\n",
    "    images = np.array(images)\n",
    "    images = images / 255"
   ]
  },
  {
   "cell_type": "code",
   "execution_count": 24,
   "metadata": {},
   "outputs": [
    {
     "data": {
      "image/png": "[encoded data removed]",
      "text/plain": [
       "<Figure size 432x288 with 1 Axes>"
      ]
     },
     "metadata": {
      "needs_background": "light"
     },
     "output_type": "display_data"
    },
    {
     "name": "stdout",
     "output_type": "stream",
     "text": [
      "File name: s0001_01691_0_1_0_0_0_01.png\n",
      "Eye_state: 0\n",
      "Genders: 0\n",
      "Glasses: 0\n",
      "Reflections: 0\n",
      "Image_quality: 1\n"
     ]
    },
    {
     "ename": "IndexError",
     "evalue": "index 4 is out of bounds for axis 0 with size 4",
     "output_type": "error",
     "traceback": [
      "\u001b[0;31m---------------------------------------------------------------------------\u001b[0m",
      "\u001b[0;31mIndexError\u001b[0m                                Traceback (most recent call last)",
      "\u001b[0;32m<ipython-input-24-2d30beb12924>\u001b[0m in \u001b[0;36m<module>\u001b[0;34m\u001b[0m\n\u001b[1;32m      8\u001b[0m \u001b[0mprint\u001b[0m\u001b[0;34m(\u001b[0m\u001b[0;34m\"Reflections:\"\u001b[0m\u001b[0;34m,\u001b[0m\u001b[0mfeatures\u001b[0m\u001b[0;34m[\u001b[0m\u001b[0midx\u001b[0m\u001b[0;34m]\u001b[0m\u001b[0;34m[\u001b[0m\u001b[0;36m2\u001b[0m\u001b[0;34m]\u001b[0m\u001b[0;34m)\u001b[0m\u001b[0;34m\u001b[0m\u001b[0;34m\u001b[0m\u001b[0m\n\u001b[1;32m      9\u001b[0m \u001b[0mprint\u001b[0m\u001b[0;34m(\u001b[0m\u001b[0;34m\"Image_quality:\"\u001b[0m\u001b[0;34m,\u001b[0m\u001b[0mfeatures\u001b[0m\u001b[0;34m[\u001b[0m\u001b[0midx\u001b[0m\u001b[0;34m]\u001b[0m\u001b[0;34m[\u001b[0m\u001b[0;36m3\u001b[0m\u001b[0;34m]\u001b[0m\u001b[0;34m)\u001b[0m\u001b[0;34m\u001b[0m\u001b[0;34m\u001b[0m\u001b[0m\n\u001b[0;32m---> 10\u001b[0;31m \u001b[0mprint\u001b[0m\u001b[0;34m(\u001b[0m\u001b[0;34m\"Sensor_type:\"\u001b[0m\u001b[0;34m,\u001b[0m\u001b[0mfeatures\u001b[0m\u001b[0;34m[\u001b[0m\u001b[0midx\u001b[0m\u001b[0;34m]\u001b[0m\u001b[0;34m[\u001b[0m\u001b[0;36m4\u001b[0m\u001b[0;34m]\u001b[0m\u001b[0;34m)\u001b[0m\u001b[0;34m\u001b[0m\u001b[0;34m\u001b[0m\u001b[0m\n\u001b[0m",
      "\u001b[0;31mIndexError\u001b[0m: index 4 is out of bounds for axis 0 with size 4"
     ]
    }
   ],
   "source": [
    "#Altro esempio\n",
    "idx=120\n",
    "display(images[idx])\n",
    "print(\"File name:\",files_name[idx])\n",
    "print(\"Eye_state:\",target[idx])\n",
    "print(\"Genders:\",features[idx][0])\n",
    "print(\"Glasses:\",features[idx][1])\n",
    "print(\"Reflections:\",features[idx][2])\n",
    "print(\"Image_quality:\",features[idx][3])\n",
    "print(\"Sensor_type:\",features[idx][4])"
   ]
  },
  {
   "cell_type": "code",
   "execution_count": 25,
   "metadata": {},
   "outputs": [
    {
     "name": "stdout",
     "output_type": "stream",
     "text": [
      "Samples in Training: 67918\n",
      "Samples in Testing: 16980\n"
     ]
    }
   ],
   "source": [
    "#split dei dati\n",
    "#oltre ai soliti primi 4 parametri, inserisco name_train e name_test per inserire i nomi dei file per poterli dividere in cartelle\n",
    "images_train, images_test, feat_train, feat_test, y_train, y_test, fileName_train, fileName_test = train_test_split(images, features, target, files_name, test_size=0.2,random_state=42,shuffle=True)\n",
    "print(\"Samples in Training:\",images_train.shape[0])\n",
    "print(\"Samples in Testing:\",images_test.shape[0])\n"
   ]
  },
  {
   "cell_type": "code",
   "execution_count": 26,
   "metadata": {},
   "outputs": [
    {
     "data": {
      "image/png": "[encoded data removed]",
      "text/plain": [
       "<Figure size 432x288 with 1 Axes>"
      ]
     },
     "metadata": {
      "needs_background": "light"
     },
     "output_type": "display_data"
    },
    {
     "name": "stdout",
     "output_type": "stream",
     "text": [
      "0\n",
      "[0 2 0 1]\n",
      "s0014_03025_0_1_0_2_0_01.png\n"
     ]
    }
   ],
   "source": [
    "idx=1001\n",
    "display(images_train[idx])\n",
    "print(y_train[idx])\n",
    "print(feat_train[idx])\n",
    "print(fileName_train[idx])"
   ]
  },
  {
   "cell_type": "raw",
   "metadata": {},
   "source": [
    "#Da togliere\n",
    "idx=1009\n",
    "display(images_test[idx])\n",
    "print(y_test[idx])\n",
    "print(feat_test[idx])\n",
    "print(fileName_test[idx])"
   ]
  },
  {
   "cell_type": "code",
   "execution_count": 13,
   "metadata": {},
   "outputs": [
    {
     "name": "stdout",
     "output_type": "stream",
     "text": [
      "Cartella training? True\n",
      "Cartella test? True\n",
      "Prima esecuzione? False\n"
     ]
    }
   ],
   "source": [
    "#controllo se le cartelle test e training sono già presenti\n",
    "print(\"Cartella training?\",os.path.isdir(\"training\"))\n",
    "print(\"Cartella test?\",os.path.isdir(\"test\"))\n",
    "\n",
    "\n",
    "#controllo se i dati sono già presenti nelle cartelle (non è la prima esecuzione del codice)\n",
    "firstExec = True\n",
    "#DA MIGLIORARE EFFICIENZA\n",
    "if((os.path.isdir(\"training\")) and (os.path.isdir(\"test\"))):\n",
    "    trElements = os.listdir(\"training/\")\n",
    "    teElements = os.listdir(\"test/\")\n",
    "    if((Counter(fileName_train) == Counter(trElements)) and (Counter(fileName_test) == Counter(teElements))):\n",
    "        firstExec = False\n",
    "\n",
    "print(\"Prima esecuzione?\",firstExec)"
   ]
  },
  {
   "cell_type": "code",
   "execution_count": 14,
   "metadata": {},
   "outputs": [],
   "source": [
    "#se è la prima esecuzione creo le cartelle e vi inserisco i file        \n",
    "if(firstExec):\n",
    "    #creo la cartella dove inserire le immagini di training\n",
    "    Path(\"training\").mkdir(parents=True, exist_ok=True)\n",
    "    \n",
    "    #copio le immagini di training\n",
    "    for i in range(0,images_train.shape[0]):\n",
    "        split_var = fileName_train[i].split('_')\n",
    "        subject_id = (split_var[0])\n",
    "        shutil.copy(path + subject_id + \"/\" + fileName_train[i],\"training/\" + fileName_train[i])\n",
    "    trElements = os.listdir(\"training/\")\n",
    "    #print(set(name_train).symmetric_difference(set(trElements)))\n",
    "    assert Counter(fileName_train) == Counter(trElements),set(fileName_train).symmetric_difference(set(trElements))\n",
    "    \n",
    "    #creo la cartella dove inserire le immagini di test\n",
    "    Path(\"test\").mkdir(parents=True, exist_ok=True)\n",
    "    #copio le immagini di test\n",
    "    for i in range(0,images_test.shape[0]):\n",
    "        split_var = fileName_test[i].split('_')\n",
    "        subject_id = (split_var[0])\n",
    "        shutil.copy(path + subject_id + \"/\" + fileName_test[i],\"test/\"+fileName_test[i])\n",
    "    teElements = os.listdir(\"test/\")\n",
    "    assert Counter(fileName_test) == Counter(teElements),set(fileName_test).symmetric_difference(set(teElements))\n",
    "    "
   ]
  },
  {
   "cell_type": "markdown",
   "metadata": {},
   "source": [
    "## Build Model"
   ]
  },
  {
   "cell_type": "code",
   "execution_count": null,
   "metadata": {},
   "outputs": [],
   "source": [
    "dropout = 0.15"
   ]
  },
  {
   "cell_type": "code",
   "execution_count": 27,
   "metadata": {},
   "outputs": [],
   "source": [
    "#Funzione per la creazione di un modello\n",
    "def create_cnn_model():\n",
    "    \n",
    "    #inputs = Input(shape=(IMG_HEIGHT,IMG_WIDTH,3))\n",
    "    inputs = Input(shape=(IMG_HEIGHT,IMG_WIDTH,1))\n",
    "    conv1 = Conv2D(32, kernel_size=(3, 3),activation='relu')(inputs)\n",
    "    conv2 = Conv2D(32, kernel_size=(3, 3),activation='relu')(conv1)\n",
    "    pool1 = MaxPooling2D(pool_size=(2, 2))(conv2)\n",
    "    conv3 = Conv2D(64, kernel_size=(3, 3),activation='relu')(pool1)\n",
    "    pool2 = MaxPooling2D(pool_size=(2, 2))(conv3)\n",
    "    #x = MaxPooling2D(pool_size=(2, 2))(conv3)\n",
    "    x = Dropout(dropout)(pool2)\n",
    "        \n",
    "    x = Flatten()(x) \n",
    "    \n",
    "    #shape degli attributi numerici\n",
    "    featureShape = Input(shape=(4,)) #Shape nel caso in cui si considerano anche le altre feature\n",
    "    x = keras.layers.Concatenate(axis=1)([x, featureShape]) #Concatenazione delle altre feature alle immagini\n",
    "    \n",
    "    #dropout = Dropout(0.15)\n",
    "    model_detector = Dense(128, activation='relu')(x)\n",
    "    #age_model = dropout(age_model)\n",
    "    model_detector = Dense(64, activation='relu')(model_detector)\n",
    "    #age_model = dropout(age_model)\n",
    "    model_detector = Dense(32, activation='relu')(model_detector)\n",
    "    #age_model = dropout(age_model)\n",
    "    model_detector = Dense(2, activation='softmax')(model_detector)\n",
    "   \n",
    "        \n",
    "    # Costruzione della CNN\n",
    "    model = Model([inputs, featureShape], model_detector) \n",
    "    #model = Model(inputs, model_detector)\n",
    "    model.compile(optimizer = 'adam', loss ='sparse_categorical_crossentropy', metrics =['accuracy'])\n",
    "   \n",
    "    # Restituiamo la CNN creata\n",
    "    return model        "
   ]
  },
  {
   "cell_type": "raw",
   "metadata": {},
   "source": [
    "model = Sequential([\n",
    "    Conv2D(32, kernel_size=(3, 3), activation='relu', input_shape=(52,52,1)),\n",
    "    MaxPooling2D(pool_size=(1,1)),\n",
    "    Conv2D(32,(3,3),activation='relu'),\n",
    "    MaxPooling2D(pool_size=(1,1)),\n",
    "#32 convolution filters used each of size 3x3\n",
    "#again\n",
    "    Conv2D(64, (3, 3), activation='relu'),\n",
    "    MaxPooling2D(pool_size=(1,1)),\n",
    "\n",
    "#64 convolution filters used each of size 3x3\n",
    "#choose the best features via pooling\n",
    "    \n",
    "#randomly turn neurons on and off to improve convergence\n",
    "    Dropout(0.25),\n",
    "#flatten since too many dimensions, we only want a classification output\n",
    "    Flatten(),\n",
    "#fully connected to get all relevant data\n",
    "    Dense(128, activation='relu'),\n",
    "#one more dropout for convergence' sake :) \n",
    "    Dropout(0.5),\n",
    "#output a softmax to squash the matrix into output probabilities\n",
    "    Dense(2, activation='softmax')\n",
    "])\n",
    "\n",
    "model.compile(optimizer='adam',loss='categorical_crossentropy',metrics=['accuracy'])"
   ]
  },
  {
   "cell_type": "code",
   "execution_count": 28,
   "metadata": {},
   "outputs": [
    {
     "name": "stdout",
     "output_type": "stream",
     "text": [
      "Model: \"model_2\"\n",
      "__________________________________________________________________________________________________\n",
      "Layer (type)                    Output Shape         Param #     Connected to                     \n",
      "==================================================================================================\n",
      "input_3 (InputLayer)            (None, 52, 52, 1)    0                                            \n",
      "__________________________________________________________________________________________________\n",
      "conv2d_4 (Conv2D)               (None, 50, 50, 32)   320         input_3[0][0]                    \n",
      "__________________________________________________________________________________________________\n",
      "conv2d_5 (Conv2D)               (None, 48, 48, 32)   9248        conv2d_4[0][0]                   \n",
      "__________________________________________________________________________________________________\n",
      "max_pooling2d_3 (MaxPooling2D)  (None, 24, 24, 32)   0           conv2d_5[0][0]                   \n",
      "__________________________________________________________________________________________________\n",
      "conv2d_6 (Conv2D)               (None, 22, 22, 64)   18496       max_pooling2d_3[0][0]            \n",
      "__________________________________________________________________________________________________\n",
      "max_pooling2d_4 (MaxPooling2D)  (None, 11, 11, 64)   0           conv2d_6[0][0]                   \n",
      "__________________________________________________________________________________________________\n",
      "dropout_2 (Dropout)             (None, 11, 11, 64)   0           max_pooling2d_4[0][0]            \n",
      "__________________________________________________________________________________________________\n",
      "flatten_2 (Flatten)             (None, 7744)         0           dropout_2[0][0]                  \n",
      "__________________________________________________________________________________________________\n",
      "input_4 (InputLayer)            (None, 4)            0                                            \n",
      "__________________________________________________________________________________________________\n",
      "concatenate_2 (Concatenate)     (None, 7748)         0           flatten_2[0][0]                  \n",
      "                                                                 input_4[0][0]                    \n",
      "__________________________________________________________________________________________________\n",
      "dense_5 (Dense)                 (None, 128)          991872      concatenate_2[0][0]              \n",
      "__________________________________________________________________________________________________\n",
      "dense_6 (Dense)                 (None, 64)           8256        dense_5[0][0]                    \n",
      "__________________________________________________________________________________________________\n",
      "dense_7 (Dense)                 (None, 32)           2080        dense_6[0][0]                    \n",
      "__________________________________________________________________________________________________\n",
      "dense_8 (Dense)                 (None, 2)            66          dense_7[0][0]                    \n",
      "==================================================================================================\n",
      "Total params: 1,030,338\n",
      "Trainable params: 1,030,338\n",
      "Non-trainable params: 0\n",
      "__________________________________________________________________________________________________\n"
     ]
    }
   ],
   "source": [
    "#istanziamo un modello chiamando la funzione sopra definita\n",
    "\n",
    "model = create_cnn_model()\n",
    "\n",
    "model.summary()"
   ]
  },
  {
   "cell_type": "markdown",
   "metadata": {},
   "source": [
    "## Train Model"
   ]
  },
  {
   "cell_type": "code",
   "execution_count": 30,
   "metadata": {},
   "outputs": [
    {
     "name": "stdout",
     "output_type": "stream",
     "text": [
      "Train on 61126 samples, validate on 6792 samples\n",
      "Epoch 1/1\n",
      "61126/61126 [==============================] - 185s 3ms/step - loss: 0.1566 - accuracy: 0.9410 - val_loss: 0.0696 - val_accuracy: 0.9747\n"
     ]
    }
   ],
   "source": [
    "# Training del modello \n",
    "batch_size = 32\n",
    "nb_epoch = 1\n",
    "validation = 0.1\n",
    "\n",
    "#hist_model = model.fit(x = images_train, y = y_train, epochs = nb_epoch, batch_size = batch_size, validation_split=0.1, shuffle=True)\n",
    "hist_model = model.fit(x = [images_train, feat_train], y = y_train, epochs = nb_epoch, batch_size = batch_size, validation_split=validation, shuffle=True)"
   ]
  },
  {
   "cell_type": "code",
   "execution_count": 31,
   "metadata": {},
   "outputs": [],
   "source": [
    "model_path = \"all-without-glasses_1_0.15_3CL_0.2\"\n",
    "Path(\"Modelli/\"+model_path).mkdir(parents=True, exist_ok=True)\n",
    "model.save('Modelli/'+model_path+\"/\"+model_path+\".h5\")"
   ]
  },
  {
   "cell_type": "markdown",
   "metadata": {},
   "source": [
    "## Evaluate Model"
   ]
  },
  {
   "cell_type": "code",
   "execution_count": 32,
   "metadata": {},
   "outputs": [
    {
     "data": {
      "image/png": "[encoded data removed]",
      "text/plain": [
       "<Figure size 432x288 with 1 Axes>"
      ]
     },
     "metadata": {
      "needs_background": "light"
     },
     "output_type": "display_data"
    },
    {
     "data": {
      "image/png": "[encoded data removed]",
      "text/plain": [
       "<Figure size 432x288 with 1 Axes>"
      ]
     },
     "metadata": {
      "needs_background": "light"
     },
     "output_type": "display_data"
    },
    {
     "name": "stdout",
     "output_type": "stream",
     "text": [
      "16980/16980 [==============================] - 9s 515us/step\n"
     ]
    }
   ],
   "source": [
    "mod_loss = np.mean(hist_model.history['loss'])\n",
    "mod_val_loss = np.mean(hist_model.history['val_loss'])\n",
    "mod_accuracy = np.mean(hist_model.history['accuracy'])\n",
    "mod_val_accuracy = np.mean(hist_model.history['val_accuracy'])\n",
    "\n",
    "# summarize history for loss\n",
    "plt.plot(hist_model.history['loss'])\n",
    "plt.plot(hist_model.history['val_loss'])\n",
    "plt.title('model loss')\n",
    "plt.ylabel('loss')\n",
    "plt.xlabel('epoch')\n",
    "plt.legend(['train', 'val'], loc='upper left')\n",
    "plt.savefig(\"Modelli/\"+model_path+\"/\"+\"model loss\")\n",
    "plt.show()\n",
    "\n",
    "# summarize history for accuracy\n",
    "plt.plot(hist_model.history['accuracy'])\n",
    "plt.plot(hist_model.history['val_accuracy'])\n",
    "plt.title('model accuracy')\n",
    "plt.ylabel('accuracy')\n",
    "plt.xlabel('epoch')\n",
    "plt.legend(['train', 'val'], loc='upper left')\n",
    "plt.savefig(\"Modelli/\"+model_path+\"/\"+\"model accuracy\")\n",
    "plt.show()\n",
    "\n",
    "\n",
    "#y = np.reshape(feat_test,(1,))\n",
    "y_prova = np.asarray(y_test)\n",
    "result_evaluate = model.evaluate([images_test, feat_test], y_prova)\n",
    "#result_evaluate = model.evaluate(images_test, y_test)\n",
    "\n",
    "test_loss = result_evaluate[0]\n",
    "test_accuracy = result_evaluate[1]\n",
    "\n",
    "#Salvataggio informazioni modello\n",
    "f= open(\"Modelli/\"+model_path+\"/result.txt\",\"w+\")\n",
    "f.write(\"Train loss: \"+ str(mod_loss)+\"\\n\")\n",
    "f.write(\"val_loss: \" + str(mod_val_loss)+\"\\n\")\n",
    "f.write(\"Train accuracy: \"+ str(mod_accuracy)+\"\\n\")\n",
    "f.write(\"Train val_accuracy: \"+ str(mod_val_accuracy)+\"\\n\")\n",
    "f.write(\"Test loss: \"+str(test_loss)+\"\\n\")\n",
    "f.write(\"Test accuracy: \"+str(test_accuracy)+\"\\n\")\n",
    "f.close()\n",
    "tf.keras.utils.plot_model(model, \"Modelli/\"+model_path+\"/model.png\",show_shapes=True) \n",
    "np.save(\"Modelli/\"+model_path+\"/hist.npy\",hist_model)"
   ]
  },
  {
   "cell_type": "code",
   "execution_count": 5,
   "metadata": {},
   "outputs": [],
   "source": [
    "with open('models.csv', 'a') as csvfile:\n",
    "    filewriter = csv.writer(csvfile, delimiter=';', quotechar='|', quoting=csv.QUOTE_MINIMAL)\n",
    "    #filewriter.writerow([ \"Model Name\", \"Glasses\", \"Genders\", \"Reflections\",\"Image_quality\", \"Sensor_type\",\"Epochs\",\"% Dropout\",\"Convolutional Layers\",\"% Validation\",\"% Test set\",\"Train loss\",\"Train accuracy\",\"Val loss\",\"Val accuracy\",\"Test loss\",\"Test accuracy\",\"Note\"])\n",
    "    filewriter.writerow([ model_path, \"\", \"\", \"\",\"\", \"\",nb_epoch,dropout,3,validation*100,20,mod_loss,mod_accuracy,mod_val_loss,mod_val_accuracy,test_loss,test_accuracy,\"NOTA\"])"
   ]
  },
  {
   "cell_type": "code",
   "execution_count": 108,
   "metadata": {},
   "outputs": [
    {
     "data": {
      "image/png": "[encoded data removed]",
      "text/plain": [
       "<Figure size 432x288 with 1 Axes>"
      ]
     },
     "metadata": {
      "needs_background": "light"
     },
     "output_type": "display_data"
    },
    {
     "name": "stdout",
     "output_type": "stream",
     "text": [
      "\n",
      "[Prob. occhio chiuso, Prob. occhio aperto]\n",
      "  [[0.99873096 0.00126907]]\n"
     ]
    }
   ],
   "source": [
    "#Infine, proviamo a vedere i risultati su un'immagine di test\n",
    "\n",
    "idx=47\n",
    "display(images_test[idx])\n",
    "image = images_test[idx].reshape((-1,images_test[idx].shape[0],images_test[idx].shape[1],1))\n",
    "print(\"\")\n",
    "print(\"[Prob. occhio chiuso, Prob. occhio aperto]\")\n",
    "print(\" \",model.predict(image))"
   ]
  },
  {
   "cell_type": "code",
   "execution_count": 33,
   "metadata": {},
   "outputs": [],
   "source": [
    "# Modello creato da noi\n",
    "loaded_model = load_model(\"firstModel.h5\")"
   ]
  },
  {
   "cell_type": "code",
   "execution_count": 34,
   "metadata": {},
   "outputs": [],
   "source": [
    "# Modello creato da altri sviluppatori e addestrato su un training set differente\n",
    "loaded_model2 = load_model(\"cnnCat2.h5\")"
   ]
  },
  {
   "cell_type": "code",
   "execution_count": 41,
   "metadata": {},
   "outputs": [
    {
     "data": {
      "image/png": "[encoded data removed]",
      "text/plain": [
       "<Figure size 432x288 with 1 Axes>"
      ]
     },
     "metadata": {
      "needs_background": "light"
     },
     "output_type": "display_data"
    },
    {
     "name": "stdout",
     "output_type": "stream",
     "text": [
      "\n",
      "[Prob. occhio chiuso, Prob. occhio aperto]\n",
      "[[0. 1.]]\n",
      "[[0.523 0.477]]\n"
     ]
    }
   ],
   "source": [
    "# Vediamo i risultati prodotti dai due modelli su un'immagine di test\n",
    "\n",
    "idx=1544\n",
    "display(images_test[idx])\n",
    "image = images_test[idx].reshape((-1,images_test[idx].shape[0],images_test[idx].shape[1],1))\n",
    "print(\"\")\n",
    "print(\"[Prob. occhio chiuso, Prob. occhio aperto]\")\n",
    "print(np.around(loaded_model.predict(image),3))\n",
    "\n",
    "\n",
    "image = images_test[idx]\n",
    "image = cv2.resize(image, dsize=(24,24))\n",
    "image = image.reshape((-1,image.shape[0],image.shape[1],1))\n",
    "print(np.around(loaded_model2.predict(image),3))\n"
   ]
  },
  {
   "cell_type": "code",
   "execution_count": 78,
   "metadata": {},
   "outputs": [],
   "source": [
    "image_test_resize = []\n",
    "for img in images_test:\n",
    "        image = cv2.resize(img, dsize=(24,24))\n",
    "        image = image.reshape((image.shape[0],image.shape[1],1))\n",
    "        image_test_resize.append(image)"
   ]
  },
  {
   "cell_type": "code",
   "execution_count": 91,
   "metadata": {},
   "outputs": [],
   "source": [
    "image_test_resize = np.array(image_test_resize)\n",
    "#image_test_resize = image_test_resize / 255"
   ]
  },
  {
   "cell_type": "code",
   "execution_count": 92,
   "metadata": {},
   "outputs": [],
   "source": [
    "from keras.utils.np_utils import to_categorical\n",
    "categorical_labels = to_categorical(y_test, num_classes=2)"
   ]
  },
  {
   "cell_type": "code",
   "execution_count": 93,
   "metadata": {},
   "outputs": [
    {
     "name": "stdout",
     "output_type": "stream",
     "text": [
      "16980/16980 [==============================] - 4s 212us/step\n",
      "[1.0592166709113597, 0.6891637444496155]\n"
     ]
    }
   ],
   "source": [
    "# Effettuiamo una valutazione del modello non creato da noi sul nostro test set. Primo valore: Test loss, Secondo valore: Test accuracy.\n",
    "result_evaluate = loaded_model2.evaluate(image_test_resize, categorical_labels)\n",
    "print(result_evaluate)"
   ]
  },
  {
   "cell_type": "code",
   "execution_count": 115,
   "metadata": {},
   "outputs": [
    {
     "name": "stdout",
     "output_type": "stream",
     "text": [
      "16980/16980 [==============================] - 9s 521us/step\n",
      "[0.09919374009377123, 0.96378093957901]\n"
     ]
    }
   ],
   "source": [
    "# Valutazione del nostro modello sul test set. Primo valore: Test loss, Secondo valore: Test accuracy.\n",
    "result_evaluate = loaded_model.evaluate(images_test, y_test)\n",
    "print(result_evaluate)"
   ]
  },
  {
   "cell_type": "code",
   "execution_count": 124,
   "metadata": {},
   "outputs": [
    {
     "data": {
      "image/png": "[encoded data removed]",
      "text/plain": [
       "<Figure size 432x288 with 1 Axes>"
      ]
     },
     "metadata": {
      "needs_background": "light"
     },
     "output_type": "display_data"
    },
    {
     "name": "stdout",
     "output_type": "stream",
     "text": [
      "\n",
      "[Prob. occhio chiuso, Prob. occhio aperto]\n",
      "[[0. 1.]]\n"
     ]
    }
   ],
   "source": [
    "# Valutazione di un'immagine acquisita dalla demo creata\n",
    "image = cv2.imread(\"right.jpg\", cv2.IMREAD_GRAYSCALE)\n",
    "display(image)\n",
    "#image = cv2.resize(image, dsize=(24,24))\n",
    "image = image.reshape((-1,image.shape[0],image.shape[1],1))\n",
    "image = image/255\n",
    "print(\"\")\n",
    "print(\"[Prob. occhio chiuso, Prob. occhio aperto]\")\n",
    "print(np.around(loaded_model.predict(image),3))"
   ]
  },
  {
   "cell_type": "code",
   "execution_count": null,
   "metadata": {},
   "outputs": [],
   "source": []
  }
 ],
 "metadata": {
  "kernelspec": {
   "display_name": "Python 3",
   "language": "python",
   "name": "python3"
  },
  "language_info": {
   "codemirror_mode": {
    "name": "ipython",
    "version": 3
   },
   "file_extension": ".py",
   "mimetype": "text/x-python",
   "name": "python",
   "nbconvert_exporter": "python",
   "pygments_lexer": "ipython3",
   "version": "3.7.6"
  }
 },
 "nbformat": 4,
 "nbformat_minor": 4
}
