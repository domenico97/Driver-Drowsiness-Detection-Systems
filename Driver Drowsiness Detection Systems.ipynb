{
 "cells": [
  {
   "cell_type": "markdown",
   "metadata": {},
   "source": [
    "\n",
    "# Table of contents\n",
    " - Import Dependencies\n",
    " - Load and Visualize data\n",
    " - Build Model\n",
    " - Train Model\n",
    " - Evaluate Model\n",
    " - Final Evaluations"
   ]
  },
  {
   "cell_type": "markdown",
   "metadata": {},
   "source": [
    "## Import Dependencies"
   ]
  },
  {
   "cell_type": "code",
   "execution_count": 1,
   "metadata": {},
   "outputs": [
    {
     "name": "stderr",
     "output_type": "stream",
     "text": [
      "Using TensorFlow backend.\n"
     ]
    }
   ],
   "source": [
    "import numpy as np \n",
    "import pandas as pd \n",
    "import os\n",
    "import cv2\n",
    "import matplotlib.pyplot as plt\n",
    "from sklearn.model_selection import train_test_split\n",
    "from pathlib import Path\n",
    "import shutil\n",
    "from collections import Counter\n",
    "import keras \n",
    "import tensorflow as tf\n",
    "from keras.layers import *\n",
    "from keras.models import *\n",
    "from IPython.display import Image\n",
    "from keras import backend as K"
   ]
  },
  {
   "cell_type": "markdown",
   "metadata": {},
   "source": [
    "## Load and Visualize data"
   ]
  },
  {
   "cell_type": "code",
   "execution_count": 2,
   "metadata": {},
   "outputs": [],
   "source": [
    "path = \"Dataset/Pictures/\"\n",
    "subjects_folder = os.listdir(path)\n",
    "#la lista dei file viene caricata in modo arbitratrio, quindi la ordino per conformarla\n",
    "subjects_folder.sort()\n",
    "size = len(subjects_folder)"
   ]
  },
  {
   "cell_type": "code",
   "execution_count": 104,
   "metadata": {},
   "outputs": [
    {
     "name": "stdout",
     "output_type": "stream",
     "text": [
      "Formato dei file: gender_glasses_eyeState_reflections_imageQuality_sensorType\n",
      "\n"
     ]
    }
   ],
   "source": [
    "print(\"Formato dei file: gender_glasses_eyeState_reflections_imageQuality_sensorType\\n\")"
   ]
  },
  {
   "cell_type": "code",
   "execution_count": 29,
   "metadata": {},
   "outputs": [
    {
     "data": {
      "text/plain": [
       "52"
      ]
     },
     "execution_count": 29,
     "metadata": {},
     "output_type": "execute_result"
    }
   ],
   "source": [
    "#Per trovare la dimensione minima di un'immagine\n",
    "w = []\n",
    "h = [] \n",
    "\n",
    "for folder in subjects_folder:\n",
    "    subject_folder_path = path + folder\n",
    "    subject_folder = os.listdir(subject_folder_path)\n",
    "    for img in subject_folder:\n",
    "        image_path = subject_folder_path + \"/\" + img\n",
    "        image = cv2.imread(image_path, cv2.IMREAD_GRAYSCALE)\n",
    "        w.append(image.shape[1])\n",
    "        h.append(image.shape[0])\n",
    "        \n",
    "min(w)\n",
    "min(h)"
   ]
  },
  {
   "cell_type": "code",
   "execution_count": 5,
   "metadata": {},
   "outputs": [
    {
     "name": "stdout",
     "output_type": "stream",
     "text": [
      "Dataset/Pictures/s0001\n",
      "Dataset/Pictures/s0002\n",
      "Dataset/Pictures/s0003\n",
      "Dataset/Pictures/s0004\n",
      "Dataset/Pictures/s0005\n",
      "Dataset/Pictures/s0006\n",
      "Dataset/Pictures/s0007\n",
      "Dataset/Pictures/s0008\n",
      "Dataset/Pictures/s0009\n",
      "Dataset/Pictures/s0010\n",
      "Dataset/Pictures/s0011\n",
      "Dataset/Pictures/s0012\n",
      "Dataset/Pictures/s0013\n",
      "Dataset/Pictures/s0014\n",
      "Dataset/Pictures/s0015\n",
      "Dataset/Pictures/s0016\n",
      "Dataset/Pictures/s0017\n",
      "Dataset/Pictures/s0018\n",
      "Dataset/Pictures/s0019\n",
      "Dataset/Pictures/s0020\n",
      "Dataset/Pictures/s0021\n",
      "Dataset/Pictures/s0022\n",
      "Dataset/Pictures/s0023\n",
      "Dataset/Pictures/s0024\n",
      "Dataset/Pictures/s0025\n",
      "Dataset/Pictures/s0026\n",
      "Dataset/Pictures/s0027\n",
      "Dataset/Pictures/s0028\n",
      "Dataset/Pictures/s0029\n",
      "Dataset/Pictures/s0030\n",
      "Dataset/Pictures/s0031\n",
      "Dataset/Pictures/s0032\n",
      "Dataset/Pictures/s0033\n",
      "Dataset/Pictures/s0034\n",
      "Dataset/Pictures/s0035\n",
      "Dataset/Pictures/s0036\n",
      "Dataset/Pictures/s0037\n"
     ]
    }
   ],
   "source": [
    "images = []\n",
    "glasses = []\n",
    "genders = []\n",
    "eye_state = [] \n",
    "reflections = []\n",
    "image_quality = []\n",
    "sensor_type = []\n",
    "files_name = []\n",
    "\n",
    "IMG_WIDTH= 52\n",
    "IMG_HEIGHT = 52\n",
    "\n",
    "for folder in subjects_folder:\n",
    "    subject_folder_path = path + folder\n",
    "    subject_folder = os.listdir(subject_folder_path)\n",
    "    print(subject_folder_path)\n",
    "    for img in subject_folder:\n",
    "        image_path = subject_folder_path + \"/\" + img\n",
    "        image = cv2.imread(image_path, cv2.IMREAD_GRAYSCALE)\n",
    "        image = cv2.resize(image, dsize=(IMG_HEIGHT,IMG_WIDTH))\n",
    "        image = image.reshape((image.shape[0],image.shape[1],1))\n",
    "        images.append(image)\n",
    "        split_name = img.split('.')\n",
    "        split_var = split_name[0].split('_')\n",
    "        genders.append(int(split_var[2]))\n",
    "        glasses.append(int(split_var[3]))\n",
    "        eye_state.append(int(split_var[4]))\n",
    "        reflections.append(int(split_var[5]))\n",
    "        image_quality.append(int(split_var[6]))\n",
    "        sensor_type.append(int(split_var[7]))\n",
    "        files_name.append(img)\n",
    "                               "
   ]
  },
  {
   "cell_type": "code",
   "execution_count": 6,
   "metadata": {},
   "outputs": [
    {
     "data": {
      "text/plain": [
       "(52, 52, 1)"
      ]
     },
     "execution_count": 6,
     "metadata": {},
     "output_type": "execute_result"
    }
   ],
   "source": [
    "#shape di un'immagine\n",
    "images[1].shape"
   ]
  },
  {
   "cell_type": "code",
   "execution_count": 7,
   "metadata": {},
   "outputs": [
    {
     "data": {
      "image/png": "[encoded data removed]",
      "text/plain": [
       "<Figure size 432x288 with 1 Axes>"
      ]
     },
     "metadata": {
      "needs_background": "light"
     },
     "output_type": "display_data"
    },
    {
     "name": "stdout",
     "output_type": "stream",
     "text": [
      "Uomini:  63173\n",
      "Donne:  21725\n"
     ]
    }
   ],
   "source": [
    "#Grafico della distribuzione sesso\n",
    "sesso = ['Uomo','Donna']\n",
    "x_genders = list(set(genders))\n",
    "y_genders = [genders.count(i) for i in x_genders]\n",
    "plt.bar(sesso,y_genders)\n",
    "plt.title('Distribuzione sesso')\n",
    "plt.show()\n",
    "print(\"Uomini: \",y_genders[0])\n",
    "print(\"Donne: \",y_genders[1])"
   ]
  },
  {
   "cell_type": "code",
   "execution_count": 8,
   "metadata": {},
   "outputs": [
    {
     "name": "stdout",
     "output_type": "stream",
     "text": [
      "Nome file: s0001_00947_0_1_0_2_0_01.png\n",
      "Genders: 0\n",
      "Glasses: 1\n",
      "Eye_state: 0\n",
      "Reflections: 2\n",
      "Image_quality: 0\n",
      "Sensor_type: 1\n"
     ]
    },
    {
     "data": {
      "image/png": "[encoded data removed]",
      "text/plain": [
       "<Figure size 432x288 with 1 Axes>"
      ]
     },
     "metadata": {
      "needs_background": "light"
     },
     "output_type": "display_data"
    }
   ],
   "source": [
    "#funzione per lo show di un'immagine. \n",
    "def display(img):\n",
    "    img = np.squeeze(img)  #squeeze remove single-dimensional entries from the shape of an array.\n",
    "    plt.imshow(img)\n",
    "    plt.set_cmap('gray')\n",
    "    plt.show()\n",
    "\n",
    "idx = 1\n",
    "sample = images[idx]\n",
    "print(\"Nome file:\",files_name[idx])\n",
    "print(\"Genders:\",genders[idx])\n",
    "print(\"Glasses:\",glasses[idx])\n",
    "print(\"Eye_state:\",eye_state[idx])\n",
    "print(\"Reflections:\",reflections[idx])\n",
    "print(\"Image_quality:\",image_quality[idx])\n",
    "print(\"Sensor_type:\",sensor_type[idx])\n",
    "display(images[idx])"
   ]
  },
  {
   "cell_type": "code",
   "execution_count": 9,
   "metadata": {},
   "outputs": [],
   "source": [
    "#Creazione di un'unica lista contenente le feature associate alle immagini\n",
    "features = []\n",
    "\n",
    "for i in range(len(images)):\n",
    "    \n",
    "    featElement = np.array([int(genders[i]),int(glasses[i]),int(reflections[i]),int(image_quality[i]),int(sensor_type[i])])\n",
    "    features.append(featElement)\n",
    "\n",
    "features = np.asarray(features)"
   ]
  },
  {
   "cell_type": "code",
   "execution_count": 10,
   "metadata": {},
   "outputs": [],
   "source": [
    "#Normalizzazione delle immagini\n",
    "if 'target' not in locals():\n",
    "    target = eye_state\n",
    "    images = np.array(images)\n",
    "    images = images / 255"
   ]
  },
  {
   "cell_type": "code",
   "execution_count": 11,
   "metadata": {},
   "outputs": [
    {
     "data": {
      "image/png": "[encoded data removed]",
      "text/plain": [
       "<Figure size 432x288 with 1 Axes>"
      ]
     },
     "metadata": {
      "needs_background": "light"
     },
     "output_type": "display_data"
    },
    {
     "name": "stdout",
     "output_type": "stream",
     "text": [
      "File name: s0001_01691_0_1_0_0_0_01.png\n",
      "Eye_state: 0\n",
      "Genders: 0\n",
      "Glasses: 1\n",
      "Reflections: 0\n",
      "Image_quality: 0\n",
      "Sensor_type: 1\n"
     ]
    }
   ],
   "source": [
    "#Altro esempio\n",
    "idx=120\n",
    "display(images[idx])\n",
    "print(\"File name:\",files_name[idx])\n",
    "print(\"Eye_state:\",target[idx])\n",
    "print(\"Genders:\",features[idx][0])\n",
    "print(\"Glasses:\",features[idx][1])\n",
    "print(\"Reflections:\",features[idx][2])\n",
    "print(\"Image_quality:\",features[idx][3])\n",
    "print(\"Sensor_type:\",features[idx][4])"
   ]
  },
  {
   "cell_type": "code",
   "execution_count": 12,
   "metadata": {},
   "outputs": [
    {
     "name": "stdout",
     "output_type": "stream",
     "text": [
      "Samples in Training: 67918\n",
      "Samples in Testing: 16980\n"
     ]
    }
   ],
   "source": [
    "#split dei dati\n",
    "#oltre ai soliti primi 4 parametri, inserisco name_train e name_test per inserire i nomi dei file per poterli dividere in cartelle\n",
    "images_train, images_test, feat_train, feat_test, y_train, y_test, fileName_train, fileName_test = train_test_split(images, features, target, files_name, test_size=0.2,random_state=42,shuffle=True)\n",
    "print(\"Samples in Training:\",images_train.shape[0])\n",
    "print(\"Samples in Testing:\",images_test.shape[0])\n"
   ]
  },
  {
   "cell_type": "code",
   "execution_count": 13,
   "metadata": {},
   "outputs": [
    {
     "data": {
      "image/png": "[encoded data removed]",
      "text/plain": [
       "<Figure size 432x288 with 1 Axes>"
      ]
     },
     "metadata": {
      "needs_background": "light"
     },
     "output_type": "display_data"
    },
    {
     "name": "stdout",
     "output_type": "stream",
     "text": [
      "0\n",
      "[0 1 2 0 1]\n",
      "s0014_03025_0_1_0_2_0_01.png\n"
     ]
    }
   ],
   "source": [
    "idx=1001\n",
    "display(images_train[idx])\n",
    "print(y_train[idx])\n",
    "print(feat_train[idx])\n",
    "print(fileName_train[idx])"
   ]
  },
  {
   "cell_type": "raw",
   "metadata": {},
   "source": [
    "#Da togliere\n",
    "idx=1009\n",
    "display(images_test[idx])\n",
    "print(y_test[idx])\n",
    "print(feat_test[idx])\n",
    "print(fileName_test[idx])"
   ]
  },
  {
   "cell_type": "code",
   "execution_count": 14,
   "metadata": {},
   "outputs": [
    {
     "name": "stdout",
     "output_type": "stream",
     "text": [
      "Cartella training? True\n",
      "Cartella test? False\n",
      "Prima esecuzione? True\n"
     ]
    }
   ],
   "source": [
    "#controllo se le cartelle test e training sono già presenti\n",
    "print(\"Cartella training?\",os.path.isdir(\"training\"))\n",
    "print(\"Cartella test?\",os.path.isdir(\"test\"))\n",
    "\n",
    "\n",
    "#controllo se i dati sono già presenti nelle cartelle (non è la prima esecuzione del codice)\n",
    "firstExec = True\n",
    "#DA MIGLIORARE EFFICIENZA\n",
    "if((os.path.isdir(\"training\")) and (os.path.isdir(\"test\"))):\n",
    "    trElements = os.listdir(\"training/\")\n",
    "    teElements = os.listdir(\"test/\")\n",
    "    if((Counter(fileName_train) == Counter(trElements)) and (Counter(fileName_test) == Counter(teElements))):\n",
    "        firstExec = False\n",
    "\n",
    "print(\"Prima esecuzione?\",firstExec)"
   ]
  },
  {
   "cell_type": "code",
   "execution_count": 34,
   "metadata": {},
   "outputs": [],
   "source": [
    "#se è la prima esecuzione creo le cartelle e vi inserisco i file        \n",
    "if(firstExec):\n",
    "    #creo la cartella dove inserire le immagini di training\n",
    "    Path(\"training\").mkdir(parents=True, exist_ok=True)\n",
    "    \n",
    "    #copio le immagini di training\n",
    "    for i in range(0,images_train.shape[0]):\n",
    "        split_var = fileName_train[i].split('_')\n",
    "        subject_id = (split_var[0])\n",
    "        shutil.copy(path + subject_id + \"/\" + fileName_train[i],\"training/\" + fileName_train[i])\n",
    "    trElements = os.listdir(\"training/\")\n",
    "    #print(set(name_train).symmetric_difference(set(trElements)))\n",
    "    assert Counter(fileName_train) == Counter(trElements),set(fileName_train).symmetric_difference(set(trElements))\n",
    "    \n",
    "    #creo la cartella dove inserire le immagini di test\n",
    "    Path(\"test\").mkdir(parents=True, exist_ok=True)\n",
    "    #copio le immagini di test\n",
    "    for i in range(0,images_test.shape[0]):\n",
    "        split_var = fileName_test[i].split('_')\n",
    "        subject_id = (split_var[0])\n",
    "        shutil.copy(path + subject_id + \"/\" + fileName_test[i],\"test/\"+fileName_test[i])\n",
    "    teElements = os.listdir(\"test/\")\n",
    "    assert Counter(fileName_test) == Counter(teElements),set(fileName_test).symmetric_difference(set(teElements))\n",
    "    "
   ]
  },
  {
   "cell_type": "markdown",
   "metadata": {},
   "source": [
    "## Build Model"
   ]
  },
  {
   "cell_type": "code",
   "execution_count": 57,
   "metadata": {},
   "outputs": [],
   "source": [
    "#Funzione per la creazione di un modello\n",
    "def create_cnn_model():\n",
    "\n",
    "    #inputs = Input(shape=(IMG_HEIGHT,IMG_WIDTH,3))\n",
    "    inputs = Input(shape=(IMG_HEIGHT,IMG_WIDTH,1))\n",
    "    conv1 = Conv2D(32, kernel_size=(3, 3),activation='relu')(inputs)\n",
    "    conv2 = Conv2D(32, kernel_size=(3, 3),activation='relu')(conv1)\n",
    "    pool1 = MaxPooling2D(pool_size=(2, 2))(conv2)\n",
    "    conv3 = Conv2D(64, kernel_size=(3, 3),activation='relu')(pool1)\n",
    "    pool2 = MaxPooling2D(pool_size=(2, 2))(conv3)\n",
    "    #x = MaxPooling2D(pool_size=(2, 2))(conv3)\n",
    "    x = Dropout(0.15)(pool2)\n",
    "        \n",
    "    x = Flatten()(x) \n",
    "    \n",
    "    #shape degli attributi numerici\n",
    "    #featureShape = Input(shape=(5,)) #Shape nel caso in cui si considerano anche gli agli attributi\n",
    "    #x = keras.layers.Concatenate(axis=1)([x, featureShape]) #Concatenazione delle altre feature alle immagini\n",
    "    \n",
    "    #dropout = Dropout(0.15)\n",
    "    model_detector = Dense(128, activation='relu')(x)\n",
    "    #age_model = dropout(age_model)\n",
    "    model_detector = Dense(64, activation='relu')(model_detector)\n",
    "    #age_model = dropout(age_model)\n",
    "    model_detector = Dense(32, activation='relu')(model_detector)\n",
    "    #age_model = dropout(age_model)\n",
    "    model_detector = Dense(1, activation='sigmoid')(model_detector)\n",
    "   \n",
    "        \n",
    "    # Costruzione della CNN\n",
    "    #model = Model([inputs, featureShape], model_detector) \n",
    "    model = Model(inputs, model_detector)\n",
    "    model.compile(optimizer = 'adam', loss ='binary_crossentropy', metrics =['accuracy'])\n",
    "   \n",
    "    # Restituiamo la CNN creata\n",
    "    return model        "
   ]
  },
  {
   "cell_type": "code",
   "execution_count": 58,
   "metadata": {},
   "outputs": [
    {
     "name": "stdout",
     "output_type": "stream",
     "text": [
      "Model: \"model_14\"\n",
      "_________________________________________________________________\n",
      "Layer (type)                 Output Shape              Param #   \n",
      "=================================================================\n",
      "input_15 (InputLayer)        (None, 52, 52, 1)         0         \n",
      "_________________________________________________________________\n",
      "conv2d_43 (Conv2D)           (None, 50, 50, 32)        320       \n",
      "_________________________________________________________________\n",
      "conv2d_44 (Conv2D)           (None, 48, 48, 32)        9248      \n",
      "_________________________________________________________________\n",
      "max_pooling2d_29 (MaxPooling (None, 24, 24, 32)        0         \n",
      "_________________________________________________________________\n",
      "conv2d_45 (Conv2D)           (None, 22, 22, 64)        18496     \n",
      "_________________________________________________________________\n",
      "max_pooling2d_30 (MaxPooling (None, 11, 11, 64)        0         \n",
      "_________________________________________________________________\n",
      "dropout_15 (Dropout)         (None, 11, 11, 64)        0         \n",
      "_________________________________________________________________\n",
      "flatten_15 (Flatten)         (None, 7744)              0         \n",
      "_________________________________________________________________\n",
      "dense_55 (Dense)             (None, 128)               991360    \n",
      "_________________________________________________________________\n",
      "dense_56 (Dense)             (None, 64)                8256      \n",
      "_________________________________________________________________\n",
      "dense_57 (Dense)             (None, 32)                2080      \n",
      "_________________________________________________________________\n",
      "dense_58 (Dense)             (None, 1)                 33        \n",
      "=================================================================\n",
      "Total params: 1,029,793\n",
      "Trainable params: 1,029,793\n",
      "Non-trainable params: 0\n",
      "_________________________________________________________________\n"
     ]
    }
   ],
   "source": [
    "#istanziamo un modello chiamando la funzione sopra definita\n",
    "model = create_cnn_model()\n",
    "\n",
    "model.summary()"
   ]
  },
  {
   "cell_type": "markdown",
   "metadata": {},
   "source": [
    "## Train Model"
   ]
  },
  {
   "cell_type": "code",
   "execution_count": 60,
   "metadata": {},
   "outputs": [
    {
     "name": "stdout",
     "output_type": "stream",
     "text": [
      "Train on 61126 samples, validate on 6792 samples\n",
      "Epoch 1/1\n",
      "61126/61126 [==============================] - 144s 2ms/step - loss: 0.2896 - accuracy: 0.8833 - val_loss: 0.1509 - val_accuracy: 0.9452\n"
     ]
    }
   ],
   "source": [
    "# Training del modello \n",
    "batch_size = 500\n",
    "nb_epoch = 1\n",
    "hist_model = model.fit(x = images_train, y = y_train, epochs = nb_epoch, batch_size = batch_size, validation_split=0.1, shuffle=True)\n"
   ]
  },
  {
   "cell_type": "code",
   "execution_count": 102,
   "metadata": {},
   "outputs": [
    {
     "data": {
      "image/png": "[encoded data removed]",
      "text/plain": [
       "<Figure size 432x288 with 1 Axes>"
      ]
     },
     "metadata": {
      "needs_background": "light"
     },
     "output_type": "display_data"
    },
    {
     "name": "stdout",
     "output_type": "stream",
     "text": [
      "\n",
      "  [[0.9997055]]\n"
     ]
    }
   ],
   "source": [
    "#Infine, proviamo con una nostra immagine\n",
    "\n",
    "idx=1\n",
    "display(images_test[idx])\n",
    "image = images_test[idx].reshape((-1,images_test[idx].shape[0],images_test[idx].shape[1],1))\n",
    "print(\"\")\n",
    "print(\" \",model.predict(image))"
   ]
  },
  {
   "cell_type": "code",
   "execution_count": null,
   "metadata": {},
   "outputs": [],
   "source": []
  }
 ],
 "metadata": {
  "kernelspec": {
   "display_name": "Python 3",
   "language": "python",
   "name": "python3"
  },
  "language_info": {
   "codemirror_mode": {
    "name": "ipython",
    "version": 3
   },
   "file_extension": ".py",
   "mimetype": "text/x-python",
   "name": "python",
   "nbconvert_exporter": "python",
   "pygments_lexer": "ipython3",
   "version": "3.7.6"
  }
 },
 "nbformat": 4,
 "nbformat_minor": 4
}
